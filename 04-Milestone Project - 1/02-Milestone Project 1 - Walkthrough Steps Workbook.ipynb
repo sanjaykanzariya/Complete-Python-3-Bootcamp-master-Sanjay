{
 "cells": [
  {
   "cell_type": "markdown",
   "metadata": {},
   "source": [
    "# Milestone Project 1: Walkthrough Steps Workbook\n",
    "\n",
    "Below is a set of steps for you to follow to try to create the Tic Tac Toe Milestone Project game!"
   ]
  },
  {
   "cell_type": "markdown",
   "metadata": {},
   "source": [
    "#### Some suggested tools before you get started:\n",
    "To take input from a user:\n",
    "\n",
    "    player1 = input(\"Please pick a marker 'X' or 'O'\")\n",
    "    \n",
    "Note that input() takes in a string. If you need an integer value, use\n",
    "\n",
    "    position = int(input('Please enter a number'))\n",
    "    \n",
    "<br>To clear the screen between moves:\n",
    "\n",
    "    from IPython.display import clear_output\n",
    "    clear_output()\n",
    "    \n",
    "Note that clear_output() will only work in jupyter. To clear the screen in other IDEs, consider:\n",
    "\n",
    "    print('\\n'*100)\n",
    "    \n",
    "This scrolls the previous board up out of view. Now on to the program!"
   ]
  },
  {
   "cell_type": "markdown",
   "metadata": {},
   "source": [
    "**Step 1: Write a function that can print out a board. Set up your board as a list, where each index 1-9 corresponds with a number on a number pad, so you get a 3 by 3 board representation.**"
   ]
  },
  {
   "cell_type": "code",
   "execution_count": 2,
   "metadata": {},
   "outputs": [],
   "source": [
    "from IPython.display import clear_output\n",
    "\n",
    "def display_board(board):\n",
    "    clear_output()\n",
    "    print('\\n')\n",
    "    # Iterating through every list object of the board, except the first one.\n",
    "    for i in range(1,len(board)-1,3):\n",
    "        print(f' {board[i]} | {board[i+1]} | {board[i+2]}')\n",
    "        \n",
    "        if i == 7:\n",
    "            break\n",
    "        else:\n",
    "            print('--- --- ---')\n",
    "    print('\\n')"
   ]
  },
  {
   "cell_type": "markdown",
   "metadata": {},
   "source": [
    "**TEST Step 1:** run your function on a test version of the board list, and make adjustments as necessary"
   ]
  },
  {
   "cell_type": "code",
   "execution_count": 3,
   "metadata": {},
   "outputs": [
    {
     "name": "stdout",
     "output_type": "stream",
     "text": [
      " X | O | O\n",
      "--- --- ---\n",
      " X | X | O\n",
      "--- --- ---\n",
      " O | O | X\n",
      "\n",
      "\n"
     ]
    }
   ],
   "source": [
    "test_board = ['#','X','O','O','X','X','O','O','O','X']\n",
    "#test_board = [' ']*10\n",
    "display_board(test_board)"
   ]
  },
  {
   "cell_type": "markdown",
   "metadata": {},
   "source": [
    "**Step 2: Write a function that can take in a player input and assign their marker as 'X' or 'O'. Think about using *while* loops to continually ask until you get a correct answer.**"
   ]
  },
  {
   "cell_type": "code",
   "execution_count": 4,
   "metadata": {},
   "outputs": [],
   "source": [
    "def player_input():\n",
    "    player1_mark = input('Player-1: Do you want to choose X or O?: ').upper()\n",
    "    \n",
    "    while player1_mark not in 'XO':\n",
    "        print('Please select the correct marker!')\n",
    "        player1_mark = input('Do you want to choose X or O?: ').upper()\n",
    "    \n",
    "    if player1_mark == 'X':\n",
    "        player2_mark = 'O'\n",
    "    else:\n",
    "        player2_mark = 'X'\n",
    "    \n",
    "    return (player1_mark, player2_mark)\n",
    "        "
   ]
  },
  {
   "cell_type": "markdown",
   "metadata": {},
   "source": [
    "**TEST Step 2:** run the function to make sure it returns the desired output"
   ]
  },
  {
   "cell_type": "code",
   "execution_count": 5,
   "metadata": {},
   "outputs": [
    {
     "name": "stdout",
     "output_type": "stream",
     "text": [
      "Player-1: Do you want to choose X or O?: X\n"
     ]
    },
    {
     "data": {
      "text/plain": [
       "('X', 'O')"
      ]
     },
     "execution_count": 5,
     "metadata": {},
     "output_type": "execute_result"
    }
   ],
   "source": [
    "player_input()"
   ]
  },
  {
   "cell_type": "markdown",
   "metadata": {},
   "source": [
    "**Step 3: Write a function that takes in the board list object, a marker ('X' or 'O'), and a desired position (number 1-9) and assigns it to the board.**"
   ]
  },
  {
   "cell_type": "code",
   "execution_count": 6,
   "metadata": {},
   "outputs": [],
   "source": [
    "def place_marker(board, marker, position):\n",
    "    \n",
    "    board[position] = marker"
   ]
  },
  {
   "cell_type": "markdown",
   "metadata": {},
   "source": [
    "**TEST Step 3:** run the place marker function using test parameters and display the modified board"
   ]
  },
  {
   "cell_type": "code",
   "execution_count": 7,
   "metadata": {},
   "outputs": [
    {
     "name": "stdout",
     "output_type": "stream",
     "text": [
      " X | O | O\n",
      "--- --- ---\n",
      " X |   | O\n",
      "--- --- ---\n",
      " O | O | X\n",
      "\n",
      "\n"
     ]
    }
   ],
   "source": [
    "place_marker(test_board,' ',5)\n",
    "display_board(test_board)"
   ]
  },
  {
   "cell_type": "markdown",
   "metadata": {},
   "source": [
    "**Step 4: Write a function that takes in a board and a mark (X or O) and then checks to see if that mark has won.**"
   ]
  },
  {
   "cell_type": "code",
   "execution_count": 8,
   "metadata": {},
   "outputs": [],
   "source": [
    "def win_check(board, mark):\n",
    "    \n",
    "    mark_combo = [mark,mark,mark]\n",
    "    \n",
    "    return [board[1],board[2],board[3]] == mark_combo or\\\n",
    "    [board[4],board[5],board[6]] == mark_combo or\\\n",
    "    [board[7],board[8],board[9]] == mark_combo or\\\n",
    "    [board[1],board[4],board[7]] == mark_combo or\\\n",
    "    [board[2],board[5],board[8]] == mark_combo or\\\n",
    "    [board[3],board[6],board[9]] == mark_combo or\\\n",
    "    [board[1],board[5],board[9]] == mark_combo or\\\n",
    "    [board[3],board[5],board[7]] == mark_combo"
   ]
  },
  {
   "cell_type": "markdown",
   "metadata": {},
   "source": [
    "**TEST Step 4:** run the win_check function against our test_board - it should return True"
   ]
  },
  {
   "cell_type": "code",
   "execution_count": 9,
   "metadata": {},
   "outputs": [
    {
     "data": {
      "text/plain": [
       "False"
      ]
     },
     "execution_count": 9,
     "metadata": {},
     "output_type": "execute_result"
    }
   ],
   "source": [
    "win_check(test_board,'O')"
   ]
  },
  {
   "cell_type": "markdown",
   "metadata": {},
   "source": [
    "**Step 5: Write a function that uses the random module to randomly decide which player goes first. You may want to lookup random.randint() Return a string of which player went first.**"
   ]
  },
  {
   "cell_type": "code",
   "execution_count": 10,
   "metadata": {},
   "outputs": [],
   "source": [
    "import random\n",
    "\n",
    "def choose_first():\n",
    "    player_turn = random.randint(1,2)\n",
    "    \n",
    "    if player_turn == 1:\n",
    "        print('Player-1 went first!')\n",
    "    else:\n",
    "        print('Player-2 went first!')"
   ]
  },
  {
   "cell_type": "code",
   "execution_count": 11,
   "metadata": {},
   "outputs": [
    {
     "name": "stdout",
     "output_type": "stream",
     "text": [
      "Player-1 went first!\n"
     ]
    }
   ],
   "source": [
    "choose_first()"
   ]
  },
  {
   "cell_type": "markdown",
   "metadata": {},
   "source": [
    "**Step 6: Write a function that returns a boolean indicating whether a space on the board is freely available.**"
   ]
  },
  {
   "cell_type": "code",
   "execution_count": 12,
   "metadata": {},
   "outputs": [],
   "source": [
    "def space_check(board, position):\n",
    "    \n",
    "    return board[position] == ' '\n",
    "            "
   ]
  },
  {
   "cell_type": "code",
   "execution_count": 13,
   "metadata": {},
   "outputs": [
    {
     "data": {
      "text/plain": [
       "True"
      ]
     },
     "execution_count": 13,
     "metadata": {},
     "output_type": "execute_result"
    }
   ],
   "source": [
    "    space_check(test_board, 5)"
   ]
  },
  {
   "cell_type": "markdown",
   "metadata": {},
   "source": [
    "**Step 7: Write a function that checks if the board is full and returns a boolean value. True if full, False otherwise.**"
   ]
  },
  {
   "cell_type": "code",
   "execution_count": 14,
   "metadata": {},
   "outputs": [],
   "source": [
    "def full_board_check(board):\n",
    "    \n",
    "    # Creating an empty placeholder to check whether there is an empty space in the board.\n",
    "    empty = ''\n",
    "    \n",
    "    for i in range(1,10):\n",
    "        if board[i] != ' ':\n",
    "            pass\n",
    "        else:\n",
    "            empty += '*'\n",
    "\n",
    "    return len(empty) < 1"
   ]
  },
  {
   "cell_type": "code",
   "execution_count": 15,
   "metadata": {},
   "outputs": [
    {
     "name": "stdout",
     "output_type": "stream",
     "text": [
      " X | O | O\n",
      "--- --- ---\n",
      " X |   | O\n",
      "--- --- ---\n",
      " O | O | X\n",
      "\n",
      "\n"
     ]
    }
   ],
   "source": [
    "#test_board[9] = 'X'\n",
    "display_board(test_board)"
   ]
  },
  {
   "cell_type": "code",
   "execution_count": 16,
   "metadata": {},
   "outputs": [
    {
     "data": {
      "text/plain": [
       "False"
      ]
     },
     "execution_count": 16,
     "metadata": {},
     "output_type": "execute_result"
    }
   ],
   "source": [
    "full_board_check(test_board)"
   ]
  },
  {
   "cell_type": "markdown",
   "metadata": {},
   "source": [
    "**Step 8: Write a function that asks for a player's next position (as a number 1-9) and then uses the function from step 6 to check if it's a free position. If it is, then return the position for later use.**"
   ]
  },
  {
   "cell_type": "code",
   "execution_count": 17,
   "metadata": {},
   "outputs": [],
   "source": [
    "def player_choice(board):\n",
    "    \n",
    "    position_choice = int(input('Enter your next choice: (1-9) '))\n",
    "            \n",
    "    while not space_check(board, position_choice):\n",
    "        if full_board_check(board):\n",
    "            break\n",
    "        else:\n",
    "            position_choice = int(input('Given choice is full. Kindly re-enter: (1-9) '))\n",
    "    \n",
    "    return position_choice"
   ]
  },
  {
   "cell_type": "code",
   "execution_count": 18,
   "metadata": {},
   "outputs": [
    {
     "name": "stdout",
     "output_type": "stream",
     "text": [
      "Enter your next choice: (1-9) 1\n",
      "Given choice is full. Kindly re-enter: (1-9) 2\n",
      "Given choice is full. Kindly re-enter: (1-9) 3\n",
      "Given choice is full. Kindly re-enter: (1-9) 4\n",
      "Given choice is full. Kindly re-enter: (1-9) 5\n"
     ]
    },
    {
     "data": {
      "text/plain": [
       "5"
      ]
     },
     "execution_count": 18,
     "metadata": {},
     "output_type": "execute_result"
    }
   ],
   "source": [
    "player_choice(test_board)"
   ]
  },
  {
   "cell_type": "code",
   "execution_count": 19,
   "metadata": {},
   "outputs": [
    {
     "name": "stdout",
     "output_type": "stream",
     "text": [
      " X | O | O\n",
      "--- --- ---\n",
      " X |   | O\n",
      "--- --- ---\n",
      " O | O | X\n",
      "\n",
      "\n"
     ]
    }
   ],
   "source": [
    "display_board(test_board)"
   ]
  },
  {
   "cell_type": "markdown",
   "metadata": {},
   "source": [
    "**Step 9: Write a function that asks the player if they want to play again and returns a boolean True if they do want to play again.**"
   ]
  },
  {
   "cell_type": "code",
   "execution_count": 20,
   "metadata": {},
   "outputs": [],
   "source": [
    "def replay():\n",
    "    \n",
    "    replay_choice = input('Do you wish to play again? (y/n): ')\n",
    "    return replay_choice in 'yY'"
   ]
  },
  {
   "cell_type": "code",
   "execution_count": 21,
   "metadata": {},
   "outputs": [
    {
     "name": "stdout",
     "output_type": "stream",
     "text": [
      "Do you wish to play again? (y/n): n\n"
     ]
    },
    {
     "data": {
      "text/plain": [
       "False"
      ]
     },
     "execution_count": 21,
     "metadata": {},
     "output_type": "execute_result"
    }
   ],
   "source": [
    "replay()"
   ]
  },
  {
   "cell_type": "markdown",
   "metadata": {
    "collapsed": true
   },
   "source": [
    "**Step 10: Here comes the hard part! Use while loops and the functions you've made to run the game!**"
   ]
  },
  {
   "cell_type": "code",
   "execution_count": 23,
   "metadata": {},
   "outputs": [
    {
     "name": "stdout",
     "output_type": "stream",
     "text": [
      " X | X | X\n",
      "--- --- ---\n",
      "   |   |  \n",
      "--- --- ---\n",
      "   |   |  \n",
      "\n",
      "\n",
      "3\n",
      "Do you wish to play again? (y/n): 4\n"
     ]
    }
   ],
   "source": [
    "print('Welcome to Tic Tac Toe Game! Please note below number representation for your input!')\n",
    "\n",
    "def draw_board_first_time():\n",
    "    board = ''\n",
    "    print('\\n')\n",
    "    board += ' 1 | 2 | 3 '\n",
    "    board += '\\n' + '--- --- ---' +'\\n'\n",
    "    board += ' 4 | 5 | 6 '\n",
    "    board += '\\n' + '--- --- ---'+'\\n'\n",
    "    board += ' 7 | 8 | 9 '+'\\n'\n",
    "    print (board)\n",
    "\n",
    "draw_board_first_time()\n",
    "\n",
    "board = [' ']*10\n",
    "\n",
    "while True:\n",
    "    \n",
    "    player1_mark,player2_mark = player_input()\n",
    "    \n",
    "    while not win_check(board,player1_mark):\n",
    "        \n",
    "        player1_position_choice = player_choice(board)\n",
    "        place_marker(board,player1_mark,player1_position_choice)\n",
    "        display_board(board)\n",
    "    \n",
    "    print(player1_position_choice)\n",
    "\n",
    "    \n",
    "    # Set the game up here\n",
    "    #pass\n",
    "\n",
    "    #while game_on:\n",
    "        #Player 1 Turn\n",
    "        \n",
    "        \n",
    "        # Player2's turn.\n",
    "            \n",
    "            #pass\n",
    "\n",
    "    if not replay():\n",
    "        break"
   ]
  },
  {
   "cell_type": "code",
   "execution_count": null,
   "metadata": {},
   "outputs": [],
   "source": [
    "board"
   ]
  },
  {
   "cell_type": "markdown",
   "metadata": {
    "collapsed": true
   },
   "source": [
    "## Good Job!"
   ]
  }
 ],
 "metadata": {
  "kernelspec": {
   "display_name": "Python 3",
   "language": "python",
   "name": "python3"
  },
  "language_info": {
   "codemirror_mode": {
    "name": "ipython",
    "version": 3
   },
   "file_extension": ".py",
   "mimetype": "text/x-python",
   "name": "python",
   "nbconvert_exporter": "python",
   "pygments_lexer": "ipython3",
   "version": "3.7.3"
  }
 },
 "nbformat": 4,
 "nbformat_minor": 1
}
